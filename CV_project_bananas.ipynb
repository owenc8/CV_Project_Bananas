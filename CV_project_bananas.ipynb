{
  "nbformat": 4,
  "nbformat_minor": 0,
  "metadata": {
    "colab": {
      "provenance": [],
      "mount_file_id": "https://github.com/owenc8/CV_Project_Bananas/blob/main/CV_project_bananas.ipynb",
      "authorship_tag": "ABX9TyOkAYqV+15pG8VbXGNIZcyd",
      "include_colab_link": true
    },
    "kernelspec": {
      "name": "python3",
      "display_name": "Python 3"
    },
    "language_info": {
      "name": "python"
    }
  },
  "cells": [
    {
      "cell_type": "markdown",
      "metadata": {
        "id": "view-in-github",
        "colab_type": "text"
      },
      "source": [
        "<a href=\"https://colab.research.google.com/github/owenc8/CV_Project_Bananas/blob/main/CV_project_bananas.ipynb\" target=\"_parent\"><img src=\"https://colab.research.google.com/assets/colab-badge.svg\" alt=\"Open In Colab\"/></a>"
      ]
    },
    {
      "cell_type": "code",
      "execution_count": 1,
      "metadata": {
        "id": "vMPV4PNqQLeD",
        "outputId": "c6f1f467-f9be-46d6-b07c-055670deff72",
        "colab": {
          "base_uri": "https://localhost:8080/"
        }
      },
      "outputs": [
        {
          "output_type": "stream",
          "name": "stdout",
          "text": [
            "Mounted at /content/drive\n"
          ]
        }
      ],
      "source": [
        "from google.colab import drive\n",
        "drive.mount('/content/drive')"
      ]
    },
    {
      "cell_type": "code",
      "source": [
        "import numpy as np # linear algebra\n",
        "import pandas as pd # data processing, CSV file I/O (e.g. pd.read_csv)\n",
        "import matplotlib.pyplot as plt\n",
        "import tensorflow as tf\n",
        "from tensorflow import keras\n",
        "import cv2\n",
        "import seaborn as sns\n",
        "import glob\n",
        "import xml.etree.ElementTree as ET\n",
        "from PIL import Image\n",
        "import os\n",
        "import shutil"
      ],
      "metadata": {
        "id": "D1woXOZAT6ln"
      },
      "execution_count": 2,
      "outputs": []
    },
    {
      "cell_type": "code",
      "source": [
        "test_dir = '/content/drive/MyDrive/LabFruit/Test'\n",
        "train_dir = '/content/drive/MyDrive/LabFruit/Train'"
      ],
      "metadata": {
        "id": "WXYC46XiUbJU"
      },
      "execution_count": 3,
      "outputs": []
    },
    {
      "cell_type": "code",
      "source": [
        "os.makedirs('/content/drive/MyDrive/LabFruit/Final_data/images')\n",
        "os.makedirs('/content/drive/MyDrive/LabFruit/Final_data/labels')\n",
        "os.makedirs('/content/drive/MyDrive/LabFruit/Final_data/images/train')\n",
        "os.makedirs('/content/drive/MyDrive/LabFruit/Final_data/images/val')\n",
        "os.makedirs('/content/drive/MyDrive/LabFruit/Final_data/labels/train')\n",
        "os.makedirs('/content/drive/MyDrive/LabFruit/Final_data/labels/val')"
      ],
      "metadata": {
        "id": "MeXdUQXoUbA5"
      },
      "execution_count": 4,
      "outputs": []
    },
    {
      "cell_type": "code",
      "source": [
        "label_dir= \"/content/drive/MyDrive/LabFruit/Final_data/labels\"\n",
        "image_dir=\"/content/drive/MyDrive/LabFruit/Final_data/images\""
      ],
      "metadata": {
        "id": "BiDuFsIibmwf"
      },
      "execution_count": 5,
      "outputs": []
    },
    {
      "cell_type": "code",
      "source": [
        "#import shutil\n",
        "#run it once for copying!\n",
        "for file in os.listdir(train_dir):\n",
        "    if file.endswith(\".txt\"):\n",
        "        shutil.copy(os.path.join(train_dir, file), os.path.join(label_dir, \"train\"))\n",
        "    if file.endswith(\".png\"):\n",
        "        image = Image.open(os.path.join(train_dir, file))\n",
        "        image = image.convert(\"RGB\")\n",
        "        new_filename = os.path.splitext(file)[0] + \".png\"\n",
        "        image.save(os.path.join(image_dir,\"train\", new_filename), \"PNG\")\n",
        "        #shutil.copy(os.path.join(train_dir, file), os.path.join(image_dir, \"train\"))\n",
        "\n",
        "\n",
        "#Copy XML files and jpg files from the test folder to the folders created.\n",
        "for file in os.listdir(test_dir):\n",
        "    if file.endswith(\".txt\"):\n",
        "        shutil.copy(os.path.join(test_dir, file), os.path.join(label_dir, \"val\"))\n",
        "    if file.endswith(\".png\"):\n",
        "        image = Image.open(os.path.join(test_dir, file))\n",
        "        image = image.convert(\"RGB\")\n",
        "        new_filename = os.path.splitext(file)[0] + \".png\"\n",
        "        image.save(os.path.join(image_dir,\"val\", new_filename), \"PNG\")\n",
        "        #shutil.copy(os.path.join(test_dir, file), os.path.join(image_dir, \"val\"))"
      ],
      "metadata": {
        "id": "FMZjj1HEb15k"
      },
      "execution_count": 6,
      "outputs": []
    }
  ]
}