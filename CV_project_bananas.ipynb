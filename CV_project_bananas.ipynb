{
  "nbformat": 4,
  "nbformat_minor": 0,
  "metadata": {
    "colab": {
      "provenance": [],
      "mount_file_id": "https://github.com/owenc8/CV_Project_Bananas/blob/main/CV_project_bananas.ipynb",
      "authorship_tag": "ABX9TyNSeMn/JFsrhafzQ85cNt9x",
      "include_colab_link": true
    },
    "kernelspec": {
      "name": "python3",
      "display_name": "Python 3"
    },
    "language_info": {
      "name": "python"
    }
  },
  "cells": [
    {
      "cell_type": "markdown",
      "metadata": {
        "id": "view-in-github",
        "colab_type": "text"
      },
      "source": [
        "<a href=\"https://colab.research.google.com/github/owenc8/CV_Project_Bananas/blob/main/CV_project_bananas.ipynb\" target=\"_parent\"><img src=\"https://colab.research.google.com/assets/colab-badge.svg\" alt=\"Open In Colab\"/></a>"
      ]
    },
    {
      "cell_type": "code",
      "execution_count": 1,
      "metadata": {
        "id": "vMPV4PNqQLeD",
        "colab": {
          "base_uri": "https://localhost:8080/"
        },
        "outputId": "c6f1f467-f9be-46d6-b07c-055670deff72"
      },
      "outputs": [
        {
          "output_type": "stream",
          "name": "stdout",
          "text": [
            "Mounted at /content/drive\n"
          ]
        }
      ],
      "source": [
        "from google.colab import drive\n",
        "drive.mount('/content/drive')"
      ]
    },
    {
      "cell_type": "code",
      "source": [
        "#To-DO\n",
        "#Convert Txt files to XML and run the code below\n",
        "#train the data"
      ],
      "metadata": {
        "id": "5C8uTfkJhl4h"
      },
      "execution_count": 14,
      "outputs": []
    },
    {
      "cell_type": "code",
      "source": [
        "import numpy as np # linear algebra\n",
        "import pandas as pd # data processing, CSV file I/O (e.g. pd.read_csv)\n",
        "import matplotlib.pyplot as plt\n",
        "import tensorflow as tf\n",
        "from tensorflow import keras\n",
        "import cv2\n",
        "import seaborn as sns\n",
        "import glob\n",
        "import xml.etree.ElementTree as ET\n",
        "from PIL import Image\n",
        "import os\n",
        "import shutil"
      ],
      "metadata": {
        "id": "D1woXOZAT6ln"
      },
      "execution_count": 2,
      "outputs": []
    },
    {
      "cell_type": "code",
      "source": [
        "test_dir = '/content/drive/MyDrive/LabFruit/Test'\n",
        "train_dir = '/content/drive/MyDrive/LabFruit/Train'"
      ],
      "metadata": {
        "id": "WXYC46XiUbJU"
      },
      "execution_count": 3,
      "outputs": []
    },
    {
      "cell_type": "code",
      "source": [
        "os.makedirs('/content/drive/MyDrive/LabFruit/Final_data/images')\n",
        "os.makedirs('/content/drive/MyDrive/LabFruit/Final_data/labels')\n",
        "os.makedirs('/content/drive/MyDrive/LabFruit/Final_data/images/train')\n",
        "os.makedirs('/content/drive/MyDrive/LabFruit/Final_data/images/val')\n",
        "os.makedirs('/content/drive/MyDrive/LabFruit/Final_data/labels/train')\n",
        "os.makedirs('/content/drive/MyDrive/LabFruit/Final_data/labels/val')"
      ],
      "metadata": {
        "id": "MeXdUQXoUbA5"
      },
      "execution_count": 4,
      "outputs": []
    },
    {
      "cell_type": "code",
      "source": [
        "label_dir= \"/content/drive/MyDrive/LabFruit/Final_data/labels\"\n",
        "image_dir=\"/content/drive/MyDrive/LabFruit/Final_data/images\""
      ],
      "metadata": {
        "id": "BiDuFsIibmwf"
      },
      "execution_count": 5,
      "outputs": []
    },
    {
      "cell_type": "code",
      "source": [
        "#import shutil\n",
        "#run it once for copying!\n",
        "for file in os.listdir(train_dir):\n",
        "    if file.endswith(\".txt\"):\n",
        "        shutil.copy(os.path.join(train_dir, file), os.path.join(label_dir, \"train\"))\n",
        "    if file.endswith(\".png\"):\n",
        "        image = Image.open(os.path.join(train_dir, file))\n",
        "        image = image.convert(\"RGB\")\n",
        "        new_filename = os.path.splitext(file)[0] + \".png\"\n",
        "        image.save(os.path.join(image_dir,\"train\", new_filename), \"PNG\")\n",
        "        #shutil.copy(os.path.join(train_dir, file), os.path.join(image_dir, \"train\"))\n",
        "\n",
        "\n",
        "#Copy XML files and jpg files from the test folder to the folders created.\n",
        "for file in os.listdir(test_dir):\n",
        "    if file.endswith(\".txt\"):\n",
        "        shutil.copy(os.path.join(test_dir, file), os.path.join(label_dir, \"val\"))\n",
        "    if file.endswith(\".png\"):\n",
        "        image = Image.open(os.path.join(test_dir, file))\n",
        "        image = image.convert(\"RGB\")\n",
        "        new_filename = os.path.splitext(file)[0] + \".png\"\n",
        "        image.save(os.path.join(image_dir,\"val\", new_filename), \"PNG\")\n",
        "        #shutil.copy(os.path.join(test_dir, file), os.path.join(image_dir, \"val\"))"
      ],
      "metadata": {
        "id": "FMZjj1HEb15k"
      },
      "execution_count": 6,
      "outputs": []
    },
    {
      "cell_type": "code",
      "source": [
        "df = {'name': [],\n",
        "      'label': [],\n",
        "      'width': [],\n",
        "      'height': [],\n",
        "     'xmin': [],\n",
        "     'ymin': [],\n",
        "     'xmax': [],\n",
        "     'ymax': []}\n",
        "\n",
        "\n",
        "#This is the way to handle xml format files which are in heirarchial form (trees).\n",
        "\n",
        "for idx, anno in enumerate(glob.glob(label_dir+\"/train\" + '/*.xml')):\n",
        "\n",
        "    trees = ET.parse(anno)\n",
        "\n",
        "    print(anno)\n",
        "    root = trees.getroot()\n",
        "    width, height = [], []\n",
        "    for item in root.iter():\n",
        "        print(item)\n",
        "\n",
        "        if item.tag == 'size':\n",
        "            for attr in list(item):\n",
        "                if attr.tag == 'width':\n",
        "                    width =int(round(float(attr.text)))\n",
        "                if attr.tag == 'height':\n",
        "                    height = int(round(float(attr.text)))\n",
        "\n",
        "        if item.tag == 'object':\n",
        "            for attr in list(item):\n",
        "                if 'name' in attr.tag:\n",
        "                    label = attr.text\n",
        "                    df['label'] += [label]\n",
        "                    df['width'] += [width]\n",
        "                    df['height'] += [height]\n",
        "                    df['name'] += [anno.split('/')[-1][0:-4]]\n",
        "\n",
        "                if 'bndbox' in attr.tag:\n",
        "                    for dim in attr:\n",
        "                        if dim.tag == 'xmin':\n",
        "                            xmin = int(round(float(dim.text)))\n",
        "                            df['xmin'] += [xmin]\n",
        "\n",
        "                        if dim.tag == 'ymin':\n",
        "                            ymin = int(round(float(dim.text)))\n",
        "                            df['ymin'] += [ymin]\n",
        "                        if dim.tag == 'xmax':\n",
        "                            xmax = int(round(float(dim.text)))\n",
        "                            df['xmax'] += [xmax]\n",
        "                        if dim.tag == 'ymax':\n",
        "                            ymax = int(round(float(dim.text)))\n",
        "                            df['ymax'] += [ymax]"
      ],
      "metadata": {
        "id": "doZdX4rycuGS"
      },
      "execution_count": 11,
      "outputs": []
    },
    {
      "cell_type": "code",
      "source": [
        "df2 = {'name': [],\n",
        "      'label': [],\n",
        "      'width': [],\n",
        "      'height': [],\n",
        "     'xmin': [],\n",
        "     'ymin': [],\n",
        "     'xmax': [],\n",
        "     'ymax': []}\n",
        "\n",
        "for idx, anno in enumerate(glob.glob(label_dir+\"/val\" + '/*.xml')):\n",
        "\n",
        "    trees = ET.parse(anno)\n",
        "\n",
        "    #print(anno)\n",
        "    root = trees.getroot()\n",
        "    width, height = [], []\n",
        "    for item in root.iter():\n",
        "        #print(item)\n",
        "\n",
        "        if item.tag == 'size':\n",
        "            for attr in list(item):\n",
        "                if attr.tag == 'width':\n",
        "                    width =int(round(float(attr.text)))\n",
        "                if attr.tag == 'height':\n",
        "                    height = int(round(float(attr.text)))\n",
        "\n",
        "        if item.tag == 'object':\n",
        "            for attr in list(item):\n",
        "                if 'name' in attr.tag:\n",
        "                    label = attr.text\n",
        "                    df2['label'] += [label]\n",
        "                    df2['width'] += [width]\n",
        "                    df2['height'] += [height]\n",
        "                    #dataset['name']+=[anno.split('/')[-1][0:-4]]\n",
        "                    df2['name'] += [anno.split('/')[-1][0:-4]]\n",
        "\n",
        "                if 'bndbox' in attr.tag:\n",
        "                    for dim in attr:\n",
        "                        if dim.tag == 'xmin':\n",
        "                            xmin = int(round(float(dim.text)))\n",
        "                            df2['xmin'] += [xmin]\n",
        "\n",
        "                        if dim.tag == 'ymin':\n",
        "                            ymin = int(round(float(dim.text)))\n",
        "                            df2['ymin'] += [ymin]\n",
        "                        if dim.tag == 'xmax':\n",
        "                            xmax = int(round(float(dim.text)))\n",
        "                            df2['xmax'] += [xmax]\n",
        "                        if dim.tag == 'ymax':\n",
        "                            ymax = int(round(float(dim.text)))\n",
        "                            df2['ymax'] += [ymax]"
      ],
      "metadata": {
        "id": "F1E99u8gcuSt"
      },
      "execution_count": 12,
      "outputs": []
    },
    {
      "cell_type": "code",
      "source": [
        "import pandas as pd\n",
        "train_df = pd.DataFrame(df)\n",
        "val_df=pd.DataFrame(df2)\n",
        "#df1.head()\n",
        "val_df.head()"
      ],
      "metadata": {
        "colab": {
          "base_uri": "https://localhost:8080/",
          "height": 53
        },
        "id": "9CgHQCWBcuiU",
        "outputId": "c3f5eda2-2c23-4773-db9a-23ac3fd69bb5"
      },
      "execution_count": 13,
      "outputs": [
        {
          "output_type": "execute_result",
          "data": {
            "text/plain": [
              "Empty DataFrame\n",
              "Columns: [name, label, width, height, xmin, ymin, xmax, ymax]\n",
              "Index: []"
            ],
            "text/html": [
              "\n",
              "  <div id=\"df-06fa280b-1846-4a49-8b42-f92b3eb02773\" class=\"colab-df-container\">\n",
              "    <div>\n",
              "<style scoped>\n",
              "    .dataframe tbody tr th:only-of-type {\n",
              "        vertical-align: middle;\n",
              "    }\n",
              "\n",
              "    .dataframe tbody tr th {\n",
              "        vertical-align: top;\n",
              "    }\n",
              "\n",
              "    .dataframe thead th {\n",
              "        text-align: right;\n",
              "    }\n",
              "</style>\n",
              "<table border=\"1\" class=\"dataframe\">\n",
              "  <thead>\n",
              "    <tr style=\"text-align: right;\">\n",
              "      <th></th>\n",
              "      <th>name</th>\n",
              "      <th>label</th>\n",
              "      <th>width</th>\n",
              "      <th>height</th>\n",
              "      <th>xmin</th>\n",
              "      <th>ymin</th>\n",
              "      <th>xmax</th>\n",
              "      <th>ymax</th>\n",
              "    </tr>\n",
              "  </thead>\n",
              "  <tbody>\n",
              "  </tbody>\n",
              "</table>\n",
              "</div>\n",
              "    <div class=\"colab-df-buttons\">\n",
              "\n",
              "  <div class=\"colab-df-container\">\n",
              "    <button class=\"colab-df-convert\" onclick=\"convertToInteractive('df-06fa280b-1846-4a49-8b42-f92b3eb02773')\"\n",
              "            title=\"Convert this dataframe to an interactive table.\"\n",
              "            style=\"display:none;\">\n",
              "\n",
              "  <svg xmlns=\"http://www.w3.org/2000/svg\" height=\"24px\" viewBox=\"0 -960 960 960\">\n",
              "    <path d=\"M120-120v-720h720v720H120Zm60-500h600v-160H180v160Zm220 220h160v-160H400v160Zm0 220h160v-160H400v160ZM180-400h160v-160H180v160Zm440 0h160v-160H620v160ZM180-180h160v-160H180v160Zm440 0h160v-160H620v160Z\"/>\n",
              "  </svg>\n",
              "    </button>\n",
              "\n",
              "  <style>\n",
              "    .colab-df-container {\n",
              "      display:flex;\n",
              "      gap: 12px;\n",
              "    }\n",
              "\n",
              "    .colab-df-convert {\n",
              "      background-color: #E8F0FE;\n",
              "      border: none;\n",
              "      border-radius: 50%;\n",
              "      cursor: pointer;\n",
              "      display: none;\n",
              "      fill: #1967D2;\n",
              "      height: 32px;\n",
              "      padding: 0 0 0 0;\n",
              "      width: 32px;\n",
              "    }\n",
              "\n",
              "    .colab-df-convert:hover {\n",
              "      background-color: #E2EBFA;\n",
              "      box-shadow: 0px 1px 2px rgba(60, 64, 67, 0.3), 0px 1px 3px 1px rgba(60, 64, 67, 0.15);\n",
              "      fill: #174EA6;\n",
              "    }\n",
              "\n",
              "    .colab-df-buttons div {\n",
              "      margin-bottom: 4px;\n",
              "    }\n",
              "\n",
              "    [theme=dark] .colab-df-convert {\n",
              "      background-color: #3B4455;\n",
              "      fill: #D2E3FC;\n",
              "    }\n",
              "\n",
              "    [theme=dark] .colab-df-convert:hover {\n",
              "      background-color: #434B5C;\n",
              "      box-shadow: 0px 1px 3px 1px rgba(0, 0, 0, 0.15);\n",
              "      filter: drop-shadow(0px 1px 2px rgba(0, 0, 0, 0.3));\n",
              "      fill: #FFFFFF;\n",
              "    }\n",
              "  </style>\n",
              "\n",
              "    <script>\n",
              "      const buttonEl =\n",
              "        document.querySelector('#df-06fa280b-1846-4a49-8b42-f92b3eb02773 button.colab-df-convert');\n",
              "      buttonEl.style.display =\n",
              "        google.colab.kernel.accessAllowed ? 'block' : 'none';\n",
              "\n",
              "      async function convertToInteractive(key) {\n",
              "        const element = document.querySelector('#df-06fa280b-1846-4a49-8b42-f92b3eb02773');\n",
              "        const dataTable =\n",
              "          await google.colab.kernel.invokeFunction('convertToInteractive',\n",
              "                                                    [key], {});\n",
              "        if (!dataTable) return;\n",
              "\n",
              "        const docLinkHtml = 'Like what you see? Visit the ' +\n",
              "          '<a target=\"_blank\" href=https://colab.research.google.com/notebooks/data_table.ipynb>data table notebook</a>'\n",
              "          + ' to learn more about interactive tables.';\n",
              "        element.innerHTML = '';\n",
              "        dataTable['output_type'] = 'display_data';\n",
              "        await google.colab.output.renderOutput(dataTable, element);\n",
              "        const docLink = document.createElement('div');\n",
              "        docLink.innerHTML = docLinkHtml;\n",
              "        element.appendChild(docLink);\n",
              "      }\n",
              "    </script>\n",
              "  </div>\n",
              "\n",
              "\n",
              "    </div>\n",
              "  </div>\n"
            ],
            "application/vnd.google.colaboratory.intrinsic+json": {
              "type": "dataframe",
              "variable_name": "val_df",
              "summary": "{\n  \"name\": \"val_df\",\n  \"rows\": 0,\n  \"fields\": [\n    {\n      \"column\": \"name\",\n      \"properties\": {\n        \"dtype\": \"number\",\n        \"std\": null,\n        \"min\": null,\n        \"max\": null,\n        \"num_unique_values\": 0,\n        \"samples\": [],\n        \"semantic_type\": \"\",\n        \"description\": \"\"\n      }\n    },\n    {\n      \"column\": \"label\",\n      \"properties\": {\n        \"dtype\": \"number\",\n        \"std\": null,\n        \"min\": null,\n        \"max\": null,\n        \"num_unique_values\": 0,\n        \"samples\": [],\n        \"semantic_type\": \"\",\n        \"description\": \"\"\n      }\n    },\n    {\n      \"column\": \"width\",\n      \"properties\": {\n        \"dtype\": \"number\",\n        \"std\": null,\n        \"min\": null,\n        \"max\": null,\n        \"num_unique_values\": 0,\n        \"samples\": [],\n        \"semantic_type\": \"\",\n        \"description\": \"\"\n      }\n    },\n    {\n      \"column\": \"height\",\n      \"properties\": {\n        \"dtype\": \"number\",\n        \"std\": null,\n        \"min\": null,\n        \"max\": null,\n        \"num_unique_values\": 0,\n        \"samples\": [],\n        \"semantic_type\": \"\",\n        \"description\": \"\"\n      }\n    },\n    {\n      \"column\": \"xmin\",\n      \"properties\": {\n        \"dtype\": \"number\",\n        \"std\": null,\n        \"min\": null,\n        \"max\": null,\n        \"num_unique_values\": 0,\n        \"samples\": [],\n        \"semantic_type\": \"\",\n        \"description\": \"\"\n      }\n    },\n    {\n      \"column\": \"ymin\",\n      \"properties\": {\n        \"dtype\": \"number\",\n        \"std\": null,\n        \"min\": null,\n        \"max\": null,\n        \"num_unique_values\": 0,\n        \"samples\": [],\n        \"semantic_type\": \"\",\n        \"description\": \"\"\n      }\n    },\n    {\n      \"column\": \"xmax\",\n      \"properties\": {\n        \"dtype\": \"number\",\n        \"std\": null,\n        \"min\": null,\n        \"max\": null,\n        \"num_unique_values\": 0,\n        \"samples\": [],\n        \"semantic_type\": \"\",\n        \"description\": \"\"\n      }\n    },\n    {\n      \"column\": \"ymax\",\n      \"properties\": {\n        \"dtype\": \"number\",\n        \"std\": null,\n        \"min\": null,\n        \"max\": null,\n        \"num_unique_values\": 0,\n        \"samples\": [],\n        \"semantic_type\": \"\",\n        \"description\": \"\"\n      }\n    }\n  ]\n}"
            }
          },
          "metadata": {},
          "execution_count": 13
        }
      ]
    },
    {
      "cell_type": "code",
      "source": [],
      "metadata": {
        "id": "Qrdkx98XhWkt"
      },
      "execution_count": null,
      "outputs": []
    }
  ]
}